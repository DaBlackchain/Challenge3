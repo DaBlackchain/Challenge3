Crypto Arbitrage
In this Challenge, you'll take on the role of an analyst at a high-tech investment firm. The vice president (VP) of your department is considering arbitrage opportunities in Bitcoin and other cryptocurrencies. As Bitcoin trades on markets across the globe, can you capitalize on simultaneous price dislocations in those markets by using the powers of Pandas?

For this assignment, you’ll sort through historical trade data for Bitcoin on two exchanges: Bitstamp and Coinbase. Your task is to apply the three phases of financial analysis to determine if any arbitrage opportunities exist for Bitcoin.

This aspect of the Challenge will consist of 3 phases.

Collect the data.

Prepare the data.

Analyze the data.

Import the required libraries and dependencies.
import pandas as pd
from pathlib import Path
%matplotlib inline
Collect the Data
To collect the data that you’ll need, complete the following steps:

Instructions.

Using the Pandas read_csv function and the Path module, import the data from bitstamp.csv file, and create a DataFrame called bitstamp. Set the DatetimeIndex as the Timestamp column, and be sure to parse and format the dates.

Use the head (and/or the tail) function to confirm that Pandas properly imported the data.

Repeat Steps 1 and 2 for coinbase.csv file.

Step 1: Using the Pandas read_csv function and the Path module, import the data from bitstamp.csv file, and create a DataFrame called bitstamp. Set the DatetimeIndex as the Timestamp column, and be sure to parse and format the dates.
csvpath = Path("./Resources/bitstamp.csv")
bitstamp = pd.read_csv(csvpath)
bitstamp = pd.read_csv(
    Path("./Resources/bitstamp.csv"),
    index_col="Timestamp",
    parse_dates=True, 
    infer_datetime_format=True)
​
Step 2: Use the head (and/or the tail) function to confirm that Pandas properly imported the data.
# Use the head (and/or tail) function to confirm that the data was imported properly.
bitstamp.head()
​
Open	High	Low	Close	BTC Volume	USD Volume	Weighted Price
Timestamp							
2018-01-01 00:00:00	13681.04	13681.04	13637.93	$13646.48	3.334553	45482.128785	13639.647479
2018-01-01 00:01:00	13646.48	13658.75	13610.18	$13658.75	2.663188	36361.390888	13653.332816
2018-01-01 00:02:00	13616.93	13616.93	13610.06	$13610.22	0.084653	1152.144036	13610.136247
2018-01-01 00:03:00	13610.27	13639.09	13610.27	$13639.09	7.182986	97856.416478	13623.361128
2018-01-01 00:04:00	13635.35	13636.35	13620.00	$13620.0	1.069665	14582.660932	13632.923329
Step 3: Repeat Steps 1 and 2 for coinbase.csv file.
# Read in the CSV file called "coinbase.csv" using the Path module. 
# The CSV file is located in the Resources folder.
# Set the index to the column "Timestamp"
# Set the parse_dates and infer_datetime_format parameters
csvpath = Path("./Resources/coinbase.csv")
coinbase = pd.read_csv(csvpath)
coinbase = pd.read_csv(
    Path("./Resources/bitstamp.csv"),
    index_col="Timestamp",
    parse_dates=True, 
    infer_datetime_format=True)
​
# Use the head (and/or tail) function to confirm that the data was imported properly.
coinbase.head()
Open	High	Low	Close	BTC Volume	USD Volume	Weighted Price
Timestamp							
2018-01-01 00:00:00	13681.04	13681.04	13637.93	$13646.48	3.334553	45482.128785	13639.647479
2018-01-01 00:01:00	13646.48	13658.75	13610.18	$13658.75	2.663188	36361.390888	13653.332816
2018-01-01 00:02:00	13616.93	13616.93	13610.06	$13610.22	0.084653	1152.144036	13610.136247
2018-01-01 00:03:00	13610.27	13639.09	13610.27	$13639.09	7.182986	97856.416478	13623.361128
2018-01-01 00:04:00	13635.35	13636.35	13620.00	$13620.0	1.069665	14582.660932	13632.923329
Prepare the Data
To prepare and clean your data for analysis, complete the following steps:

For the bitstamp DataFrame, replace or drop all NaN, or missing, values in the DataFrame.

Use the str.replace function to remove the dollar signs ($) from the values in the Close column.

Convert the data type of the Close column to a float.

Review the data for duplicated values, and drop them if necessary.

Repeat Steps 1–4 for the coinbase DataFrame.

Step 1: For the bitstamp DataFrame, replace or drop all NaN, or missing, values in the DataFrame.
# For the bitstamp DataFrame, replace or drop all NaNs or missing values in the DataFrame
bitstamp.dropna()
Open	High	Low	Close	BTC Volume	USD Volume	Weighted Price
Timestamp							
2018-01-01 00:00:00	13681.04	13681.04	13637.93	$13646.48	3.334553	45482.128785	13639.647479
2018-01-01 00:01:00	13646.48	13658.75	13610.18	$13658.75	2.663188	36361.390888	13653.332816
2018-01-01 00:02:00	13616.93	13616.93	13610.06	$13610.22	0.084653	1152.144036	13610.136247
2018-01-01 00:03:00	13610.27	13639.09	13610.27	$13639.09	7.182986	97856.416478	13623.361128
2018-01-01 00:04:00	13635.35	13636.35	13620.00	$13620.0	1.069665	14582.660932	13632.923329
...	...	...	...	...	...	...	...
2018-03-31 23:55:00	6935.01	6939.07	6922.56	$6922.56	1.044354	7240.034602	6932.550078
2018-03-31 23:56:00	6922.02	6922.02	6918.00	$6920.32	3.069539	21245.076275	6921.260233
2018-03-31 23:57:00	6920.33	6936.42	6920.33	$6934.72	28.239049	195789.408220	6933.286106
2018-03-31 23:58:00	6927.65	6929.42	6927.65	$6927.65	0.839507	5817.007705	6929.080007
2018-03-31 23:59:00	6929.98	6929.98	6928.00	$6928.01	0.209363	1450.735763	6929.289993
129067 rows × 7 columns

Step 2: Use the str.replace function to remove the dollar signs ($) from the values in the Close column.
# Use the str.replace function to remove the dollar sign, $
# bitstamp.loc[:, "Close"] = bitstamp.loc[:, "Close"].str.replace("$", "")
# bitstamp
# bitstamp.dtype
​
bitstamp["Close"] = bitstamp["Close"].str.replace("$", " ")
print(bitstamp['Close'])
#(bitstamp["Close"])
​
Timestamp
2018-01-01 00:00:00     13646.48
2018-01-01 00:01:00     13658.75
2018-01-01 00:02:00     13610.22
2018-01-01 00:03:00     13639.09
2018-01-01 00:04:00      13620.0
                         ...    
2018-03-31 23:55:00      6922.56
2018-03-31 23:56:00      6920.32
2018-03-31 23:57:00      6934.72
2018-03-31 23:58:00      6927.65
2018-03-31 23:59:00      6928.01
Name: Close, Length: 129540, dtype: object
C:\Users\Darren\anaconda3\envs\dev\lib\site-packages\ipykernel_launcher.py:1: FutureWarning: The default value of regex will change from True to False in a future version. In addition, single character regular expressions will *not* be treated as literal strings when regex=True.
  """Entry point for launching an IPython kernel.
​
​
Step 3: Convert the data type of the Close column to a float.
# Convert the Close data type to a float
bitstamp.loc[:, "Close"] = bitstamp.loc[:, "Close"].astype("float")
bitstamp.head()
​
Open	High	Low	Close	BTC Volume	USD Volume	Weighted Price
Timestamp							
2018-01-01 00:00:00	13681.04	13681.04	13637.93	13646.48	3.334553	45482.128785	13639.647479
2018-01-01 00:01:00	13646.48	13658.75	13610.18	13658.75	2.663188	36361.390888	13653.332816
2018-01-01 00:02:00	13616.93	13616.93	13610.06	13610.22	0.084653	1152.144036	13610.136247
2018-01-01 00:03:00	13610.27	13639.09	13610.27	13639.09	7.182986	97856.416478	13623.361128
2018-01-01 00:04:00	13635.35	13636.35	13620.00	13620.00	1.069665	14582.660932	13632.923329
Step 4: Review the data for duplicated values, and drop them if necessary.
# Review the data for duplicate values, and drop them if necessary
bitstamp.duplicated()
​
Timestamp
2018-01-01 00:00:00    False
2018-01-01 00:01:00    False
2018-01-01 00:02:00    False
2018-01-01 00:03:00    False
2018-01-01 00:04:00    False
                       ...  
2018-03-31 23:55:00    False
2018-03-31 23:56:00    False
2018-03-31 23:57:00    False
2018-03-31 23:58:00    False
2018-03-31 23:59:00    False
Length: 129540, dtype: bool
Step 5: Repeat Steps 1–4 for the coinbase DataFrame.
# Repeat Steps 1–4 for the coinbase DataFrame
coinbase.dropna()
coinbase["Close"] = coinbase["Close"].str.replace("$", " ")
​
​
C:\Users\Darren\anaconda3\envs\dev\lib\site-packages\ipykernel_launcher.py:3: FutureWarning: The default value of regex will change from True to False in a future version. In addition, single character regular expressions will *not* be treated as literal strings when regex=True.
  This is separate from the ipykernel package so we can avoid doing imports until
coinbase["Close"] = coinbase["Close"].astype("float")
​
coinbase.dropna()
Open	High	Low	Close	BTC Volume	USD Volume	Weighted Price
Timestamp							
2018-01-01 00:00:00	13681.04	13681.04	13637.93	13646.48	3.334553	45482.128785	13639.647479
2018-01-01 00:01:00	13646.48	13658.75	13610.18	13658.75	2.663188	36361.390888	13653.332816
2018-01-01 00:02:00	13616.93	13616.93	13610.06	13610.22	0.084653	1152.144036	13610.136247
2018-01-01 00:03:00	13610.27	13639.09	13610.27	13639.09	7.182986	97856.416478	13623.361128
2018-01-01 00:04:00	13635.35	13636.35	13620.00	13620.00	1.069665	14582.660932	13632.923329
...	...	...	...	...	...	...	...
2018-03-31 23:55:00	6935.01	6939.07	6922.56	6922.56	1.044354	7240.034602	6932.550078
2018-03-31 23:56:00	6922.02	6922.02	6918.00	6920.32	3.069539	21245.076275	6921.260233
2018-03-31 23:57:00	6920.33	6936.42	6920.33	6934.72	28.239049	195789.408220	6933.286106
2018-03-31 23:58:00	6927.65	6929.42	6927.65	6927.65	0.839507	5817.007705	6929.080007
2018-03-31 23:59:00	6929.98	6929.98	6928.00	6928.01	0.209363	1450.735763	6929.289993
129067 rows × 7 columns

Analyze the Data
Your analysis consists of the following tasks:

Choose the columns of data on which to focus your analysis.

Get the summary statistics and plot the data.

Focus your analysis on specific dates.

Calculate the arbitrage profits.

Step 1: Choose columns of data on which to focus your analysis.
Select the data you want to analyze. Use loc or iloc to select the following columns of data for both the bitstamp and coinbase DataFrames:

Timestamp (index)

Close

bitstamp_sliced
# Use loc or iloc to select `Timestamp (the index)` and `Close` from bitstamp DataFrame
bitstamp_sliced = bitstamp.loc[:, "Close"]
​
# Review the first five rows of the DataFrame
bitstamp_sliced.head()
​
Timestamp
2018-01-01 00:00:00    13646.48
2018-01-01 00:01:00    13658.75
2018-01-01 00:02:00    13610.22
2018-01-01 00:03:00    13639.09
2018-01-01 00:04:00    13620.00
Name: Close, dtype: float64
# Use loc or iloc to select `Timestamp (the index)` and `Close` from coinbase DataFrame
coinbase_sliced = coinbase.loc[:, "Close"]
​
# Review the first five rows of the DataFrame
coinbase_sliced.head()
Timestamp
2018-01-01 00:00:00    13646.48
2018-01-01 00:01:00    13658.75
2018-01-01 00:02:00    13610.22
2018-01-01 00:03:00    13639.09
2018-01-01 00:04:00    13620.00
Name: Close, dtype: float64
​
Step 2: Get summary statistics and plot the data.
Sort through the time series data associated with the bitstamp and coinbase DataFrames to identify potential arbitrage opportunities. To do so, complete the following steps:

Generate the summary statistics for each DataFrame by using the describe function.

For each DataFrame, create a line plot for the full period of time in the dataset. Be sure to tailor the figure size, title, and color to each visualization.

In one plot, overlay the visualizations that you created in Step 2 for bitstamp and coinbase. Be sure to adjust the legend and title for this new visualization.

Using the loc and plot functions, plot the price action of the assets on each exchange for different dates and times. Your goal is to evaluate how the spread between the two exchanges changed across the time period that the datasets define. Did the degree of spread change as time progressed?

# Generate the summary statistics for the bitstamp DataFrame
bitstamp.describe()
Open	High	Low	Close	BTC Volume	USD Volume	Weighted Price
count	129067.000000	129067.000000	129067.000000	129067.000000	129067.000000	1.290670e+05	129067.000000
mean	10459.993683	10472.970114	10446.214703	10459.842453	11.792878	1.177496e+05	10459.384448
std	2315.909269	2318.929342	2312.331601	2315.976088	21.799938	2.070551e+05	2315.723480
min	5945.950000	5975.060000	5920.720000	5944.000000	0.000039	3.333436e-01	5949.997212
25%	8613.985000	8621.655000	8604.440000	8613.370000	1.711874	1.773244e+04	8613.587020
50%	10145.300000	10156.410000	10131.740000	10145.950000	4.994095	5.188050e+04	10144.740411
75%	11444.455000	11453.990000	11431.970000	11444.810000	12.717950	1.313104e+05	11443.791560
max	17234.980000	17234.990000	17214.960000	17234.980000	580.646391	5.483271e+06	17227.810502
# Generate the summary statistics for the coinbase DataFrame
coinbase.describe()
​
Open	High	Low	Close	BTC Volume	USD Volume	Weighted Price
count	129067.000000	129067.000000	129067.000000	129067.000000	129067.000000	1.290670e+05	129067.000000
mean	10459.993683	10472.970114	10446.214703	10459.842453	11.792878	1.177496e+05	10459.384448
std	2315.909269	2318.929342	2312.331601	2315.976088	21.799938	2.070551e+05	2315.723480
min	5945.950000	5975.060000	5920.720000	5944.000000	0.000039	3.333436e-01	5949.997212
25%	8613.985000	8621.655000	8604.440000	8613.370000	1.711874	1.773244e+04	8613.587020
50%	10145.300000	10156.410000	10131.740000	10145.950000	4.994095	5.188050e+04	10144.740411
75%	11444.455000	11453.990000	11431.970000	11444.810000	12.717950	1.313104e+05	11443.791560
max	17234.980000	17234.990000	17214.960000	17234.980000	580.646391	5.483271e+06	17227.810502
# Create a line plot for the bitstamp DataFrame for the full length of time in the dataset 
bitstamp.iloc[:100,:].plot(kind='line')
index=pd.date_range('1/1/2018', periods=100)
​
​

# Create a line plot for the coinbase DataFrame for the full length of time in the dataset 
# Be sure that the figure size, title, and color are tailored to each visualization
coinbase.plot(figsize=(15, 10), title="coinbase", color="blue")
index=pd.date_range('1/1/2018', periods=100)
​

e
# Overlay the visualizations for the bitstamp and coinbase DataFrames in one plot
# The plot should visualize the prices over the full lenth of the dataset
# Be sure to include the parameters: legend, figure size, title, and color and label
bitstamp["Close"].plot(legend=True, figsize=(15, 10), title="bitstamp v. coinbase", color="yellow", label="bitstamp") 
coinbase["Close"].plot(legend=True, figsize=(15, 7), color="blue", label="coinbase")
                       
<AxesSubplot:title={'center':'bitstamp v. coinbase'}, xlabel='Timestamp'>

Jan
# Using the loc and plot functions, create an overlay plot that visualizes 
# the price action of both DataFrames for a one month period early in the dataset
# Be sure to include the parameters: legend, figure size, title, and color and label
bitstamp['Close'].loc["2018-01-01" : "2018-01-31"].plot(
    legend=True, figsize=(15,10), title="Jan 2018", color="red", label="bitstamp")
coinbase['Close'].loc["2018-01-01" : "2018-01-31"].plot(
    legend=True, figsize=(15,10), color="blue", label="coinbase")
<AxesSubplot:title={'center':'Jan 2018'}, xlabel='Timestamp'>

18
# Using the loc and plot functions, create an overlay plot that visualizes 
# the price action of both DataFrames for a one month period later in the dataset
# Be sure to include the parameters: legend, figure size, title, and color and label 
bitstamp['Close'].loc["2018-03-01" : "2018-03-31"].plot(
    legend=True, figsize=(15,10), title="March 2018", color="red", label="bitstamp")
coinbase['Close'].loc["2018-03-01" : "2018-03-31"].plot(
    legend=True, figsize=(15,10), color="blue", label="coinbase")
<AxesSubplot:title={'center':'March 2018'}, xlabel='Timestamp'>

Question Based on the visualizations of the different time periods, has the degree of spread change as time progressed?

Answer YOUR ANSWER HERE

Step 3: Focus Your Analysis on Specific Dates
Focus your analysis on specific dates by completing the following steps:

Select three dates to evaluate for arbitrage profitability. Choose one date that’s early in the dataset, one from the middle of the dataset, and one from the later part of the time period.

For each of the three dates, generate the summary statistics and then create a box plot. This big-picture view is meant to help you gain a better understanding of the data before you perform your arbitrage calculations. As you compare the data, what conclusions can you draw?

bitstamp['Close'].loc['2018-01-15'].plot(
    legend=True, figsize=(15, 10), title="January 2018", color="yellow", label="bitstamp")
coinbase['Close'].loc['2018-01-15'].plot(
    Legend=True, figsize=(15, 10), color="red", label="coinbase")
# Create an overlay plot that visualizes the two dataframes over a period of one day early in the dataset. 
# Be sure that the plots include the parameters `legend`, `figsize`, `title`, `color` and `label` 
bitstamp['Close'].loc['2018-01-26'].plot(
    legend=True, figsize=(15, 10), title="January 2015", color="blue", label="bitstamp")
coinbase['Close'].loc['2018-01-26'].plot(
    legend=True, figsize=(15, 10), color="orange", label="coinbase")
<AxesSubplot:title={'center':'January 2015'}, xlabel='Timestamp'>

bitstamp['Close'].loc['2018-01-26'] - coinbase['Close'].loc['2018-01-26']
# Using the early date that you have selected, calculate the arbitrage spread 
# by subtracting the bitstamp lower closing prices from the coinbase higher closing prices
arbitrage_spread_early = bitstamp['Close'].loc['2018-01-26'] - coinbase['Close'].loc['2018-01-26']
​
​
# Generate summary statistics for the early DataFrame
arbitrage_spread_early.describe()
count    1433.0
mean        0.0
std         0.0
min         0.0
25%         0.0
50%         0.0
75%         0.0
max         0.0
Name: Close, dtype: float64
# Visualize the arbitrage spread from early in the dataset in a box plot
arbitrage_spread_early.plot(kind='box')
<AxesSubplot:>

bitstamp['Close'].loc['2018-02-24'].plot(
    legend=True, figsize=(15, 10), title="Feburary 24, 2018", color="blue", label="bitstamp")
coinbase['Close'].loc['2018-02-24'].plot(
    legend=True, figsize=(15, 10), color="green", label="coinbase")
# Create an overlay plot that visualizes the two dataframes over a period of one day from the middle of the dataset. 
# Be sure that the plots include the parameters `legend`, `figsize`, `title`, `color` and `label` 
bitstamp['Close'].loc['2018-02-24'].plot(
    legend=True, figsize=(15, 10), title="Feburary 24, 2018", color="blue", label="bitstamp")
coinbase['Close'].loc['2018-02-24'].plot(
    legend=True, figsize=(15, 10), color="green", label="coinbase")
    
<AxesSubplot:title={'center':'Feburary 24, 2018'}, xlabel='Timestamp'>

bitstamp['Close'].loc['2018-02-24'] - coinbase['Close'].loc['2018-02-24']
# Using the date in the middle that you have selected, calculate the arbitrage spread 
# by subtracting the bitstamp lower closing prices from the coinbase higher closing prices
arbitrage_spread_middle = bitstamp['Close'].loc['2018-02-24'] - coinbase['Close'].loc['2018-02-24']
# Generate summary statistics 
arbitrage_spread_middle.describe()
count    1437.0
mean        0.0
std         0.0
min         0.0
25%         0.0
50%         0.0
75%         0.0
max         0.0
Name: Close, dtype: float64
s
# Visualize the arbitrage spread from the middle of the dataset in a box plot
arbitrage_spread_middle.plot(kind="box")
<AxesSubplot:>

3
# Create an overlay plot that visualizes the two dataframes over a period of one day from late in the dataset. 
# Be sure that the plots include the parameters `legend`, `figsize`, `title`, `color` and `label` 
bitstamp['Close'].loc['2018-03-24'].plot(
    legend=True, figsize=(15, 10), title="Feburary 24, 2018", color="blue", label="bitstamp")
coinbase['Close'].loc['2018-03-24'].plot(
    legend=True, figsize=(15, 10), color="green", label="coinbase")
<AxesSubplot:title={'center':'Feburary 24, 2018'}, xlabel='Timestamp'>

​
​
​
_spread_late.describe()
# Using the date from the late that you have selected, calculate the arbitrage spread 
# by subtracting the bitstamp lower closing prices from the coinbase higher closing prices
arbitrage_spread_late = bitstamp['Close'].loc['2018-03-24'] - coinbase['Close'].loc['2018-03-24']
​
# Generate summary statistics for the late DataFrame
arbitrage_spread_late.describe()
count    1412.0
mean        0.0
std         0.0
min         0.0
25%         0.0
50%         0.0
75%         0.0
max         0.0
Name: Close, dtype: float64
x')
# Visualize the arbitrage spread from late in the dataset in a box plot
arbitrage_spread_late.plot(kind='box')
<AxesSubplot:>

Step 4: Calculate the Arbitrage Profits
Calculate the potential profits for each date that you selected in the previous section. Your goal is to determine whether arbitrage opportunities still exist in the Bitcoin market. Complete the following steps:

For each of the three dates, measure the arbitrage spread between the two exchanges by subtracting the lower-priced exchange from the higher-priced one. Then use a conditional statement to generate the summary statistics for each arbitrage_spread DataFrame, where the spread is greater than zero.

For each of the three dates, calculate the spread returns. To do so, divide the instances that have a positive arbitrage spread (that is, a spread greater than zero) by the price of Bitcoin from the exchange you’re buying on (that is, the lower-priced exchange). Review the resulting DataFrame.

For each of the three dates, narrow down your trading opportunities even further. To do so, determine the number of times your trades with positive returns exceed the 1% minimum threshold that you need to cover your costs.

Generate the summary statistics of your spread returns that are greater than 1%. How do the average returns compare among the three dates?

For each of the three dates, calculate the potential profit, in dollars, per trade. To do so, multiply the spread returns that were greater than 1% by the cost of what was purchased. Make sure to drop any missing values from the resulting DataFrame.

Generate the summary statistics, and plot the results for each of the three DataFrames.

Calculate the potential arbitrage profits that you can make on each day. To do so, sum the elements in the profit_per_trade DataFrame.

Using the cumsum function, plot the cumulative sum of each of the three DataFrames. Can you identify any patterns or trends in the profits across the three time periods?

(NOTE: The starter code displays only one date. You'll want to do this analysis for two additional dates).

1. For each of the three dates, measure the arbitrage spread between the two exchanges by subtracting the lower-priced exchange from the higher-priced one. Then use a conditional statement to generate the summary statistics for each arbitrage_spread DataFrame, where the spread is greater than zero.
NOTE: For illustration, only one of the three dates is shown in the starter code below.

# For the date early in the dataset, measure the arbitrage spread between the two exchanges
# by subtracting the lower-priced exchange from the higher-priced one
arbitrage_spread_early = coinbase['Close'].loc['2018-01-26'] - bitstamp['Close'].loc['2018-01-26']
# Use a conditional statement to generate the summary statistics for each arbitrage_spread DataFrame
arbitrage_spread_early[arbitrage_spread_early > 0].describe()
​
count    0.0
mean     NaN
std      NaN
min      NaN
25%      NaN
50%      NaN
75%      NaN
max      NaN
Name: Close, dtype: float64
2. For each of the three dates, calculate the spread returns. To do so, divide the instances that have a positive arbitrage spread (that is, a spread greater than zero) by the price of Bitcoin from the exchange you’re buying on (that is, the lower-priced exchange). Review the resulting DataFrame.
01
# For the date early in the dataset, calculate the spread returns by dividing the instances when the arbitrage spread is positive (> 0) 
# by the price of Bitcoin from the exchange you are buying on (the lower-priced exchange).
spread_return_early = arbitrage_spread_early[arbitrage_spread_early > 0] / bitstamp['Close'].loc['2018-01-01']
# Review the spread return DataFrame
spread_return_early.describe()
count    0.0
mean     NaN
std      NaN
min      NaN
25%      NaN
50%      NaN
75%      NaN
max      NaN
Name: Close, dtype: float64
3. For each of the three dates, narrow down your trading opportunities even further. To do so, determine the number of times your trades with positive returns exceed the 1% minimum threshold that you need to cover your costs.
# For the date early in the dataset, determine the number of times your trades with positive returns 
# exceed the 1% minimum threshold (.01) that you need to cover your costs
profitable_trades_early = spread_return[spread_return > .01]
​
# Review the first five profitable trades
# YOUR CODE HERE
---------------------------------------------------------------------------
NameError                                 Traceback (most recent call last)
~\AppData\Local\Temp\ipykernel_21228\3227880075.py in <module>
      1 # For the date early in the dataset, determine the number of times your trades with positive returns
      2 # exceed the 1% minimum threshold (.01) that you need to cover your costs
----> 3 profitable_trades_early = spread_return[spread_return > .01]
      4 
      5 # Review the first five profitable trades

NameError: name 'spread_return' is not defined
4. Generate the summary statistics of your spread returns that are greater than 1%. How do the average returns compare among the three dates?
# For the date early in the dataset, generate the summary statistics for the profitable trades
# or you trades where the spread returns are are greater than 1%
# YOUR CODE HERE
count    73.000000
mean      0.016720
std       0.007628
min       0.010109
25%       0.012061
50%       0.014794
75%       0.018124
max       0.051633
Name: Close, dtype: float64
5. For each of the three dates, calculate the potential profit, in dollars, per trade. To do so, multiply the spread returns that were greater than 1% by the cost of what was purchased. Make sure to drop any missing values from the resulting DataFrame.
# For the date early in the dataset, calculate the potential profit per trade in dollars 
# Multiply the profitable trades by the cost of the Bitcoin that was purchased
profit_early = # YOUR CODE HERE
​
# Drop any missing values from the profit DataFrame
profit_per_trade_early = # YOUR CODE HERE
​
# View the early profit DataFrame
# YOUR CODE HERE
Timestamp
2018-01-16 02:56:00    162.01
2018-01-16 02:57:00    135.00
2018-01-16 02:59:00    176.13
2018-01-16 03:00:00    134.01
2018-01-16 03:06:00    241.54
                        ...  
2018-01-16 19:23:00    125.09
2018-01-16 19:26:00    131.78
2018-01-16 19:38:00    124.01
2018-01-16 19:48:00    117.63
2018-01-16 20:07:00    113.69
Name: Close, Length: 73, dtype: float64
6. Generate the summary statistics, and plot the results for each of the three DataFrames.
# Generate the summary statistics for the early profit per trade DataFrame
# YOUR CODE HERE
count     73.000000
mean     193.796849
std       88.701429
min      112.520000
25%      139.420000
50%      171.310000
75%      210.060000
max      606.800000
Name: Close, dtype: float64
# Plot the results for the early profit per trade DataFrame
# YOUR CODE HERE
<AxesSubplot:title={'center':'Profit Per Trade - Early Date'}, xlabel='Timestamp'>

7. Calculate the potential arbitrage profits that you can make on each day. To do so, sum the elements in the profit_per_trade DataFrame.
# Calculate the sum of the potential profits for the early profit per trade DataFrame
# YOUR CODE HERE
14147.169999999998
8. Using the cumsum function, plot the cumulative sum of each of the three DataFrames. Can you identify any patterns or trends in the profits across the three time periods?
# Use the cumsum function to calculate the cumulative profits over time for the early profit per trade DataFrame
cumulative_profit_early = # YOUR CODE HERE
# Plot the cumulative sum of profits for the early profit per trade DataFrame
# YOUR CODE HERE
<AxesSubplot:title={'center':'Cumulative Sum - Early Date'}, xlabel='Timestamp'>

Question: After reviewing the profit information across each date from the different time periods, can you identify any patterns or trends?

Answer: YOUR ANSWER HERE


Simple
0
0
Python (dev) | Idle
